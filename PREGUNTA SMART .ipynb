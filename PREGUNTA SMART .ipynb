{
 "cells": [
  {
   "cell_type": "code",
   "execution_count": null,
   "id": "19358399-dc85-4d96-9e25-dcb626fe477a",
   "metadata": {},
   "outputs": [],
   "source": [
    "# La compañia actualmente genera un subproducto proveniente de la producción de alcohol llamado vinaza, el cual se podria decir es un alcohol de \n",
    "# muy mala calidad, actualmente el uso de la vinaza es regulado por CVC, la cual solo permite emplearlo como abono liquido, y restringe aplicarlo en\n",
    "# ciertas cantidades y zonas muy especifícas, dado a las caracteristicas fisicoquímicas de este y su posible impacto en acuiferos. \n",
    "# Por lo anterior la cantidad de vinaza producida es mucho mas de la que se nos permite aplicar, por lo que genera un alto costo para la compañia\n",
    "# su disposición.\n",
    "\n",
    "# Creo que este problema puede ser solucionado con IA, dado que la CVC siempre ha  solicitado el sector demuestre con datos y hechos que la vinaza \n",
    "# no es perjudicial para los acuiferos, actualmente CENICAÑA y los ingenios cuenta con estaciones de monitoreo de suelo\n",
    "# y aguas subterraneas, por lo que durante muchos años se ha recolectado un gran volumen de datos, que mediante el uso de IA y el analisis de estos\n",
    "# permitan establecer si la vinaza  genera un impacto medio ambiental negativo.\n",
    "\n",
    "#¿Fueron los acuiferos del valle del cauca contaminados por la apliación de vinaza entre los años 2006 y 2023?"
   ]
  }
 ],
 "metadata": {
  "kernelspec": {
   "display_name": "Python 3 (ipykernel)",
   "language": "python",
   "name": "python3"
  },
  "language_info": {
   "codemirror_mode": {
    "name": "ipython",
    "version": 3
   },
   "file_extension": ".py",
   "mimetype": "text/x-python",
   "name": "python",
   "nbconvert_exporter": "python",
   "pygments_lexer": "ipython3",
   "version": "3.11.7"
  }
 },
 "nbformat": 4,
 "nbformat_minor": 5
}
